{
  "cells": [
    {
      "cell_type": "code",
      "execution_count": null,
      "metadata": {
        "colab": {
          "base_uri": "https://localhost:8080/"
        },
        "id": "h82lrCmq-Q-s",
        "outputId": "9d04eae1-d9cc-40b1-931b-814a16bd74bf"
      },
      "outputs": [
        {
          "name": "stdout",
          "output_type": "stream",
          "text": [
            "no mercado tem arroz, que esta custando 20, e esta no setor padaria. \n"
          ]
        }
      ],
      "source": [
        "class Produto:\n",
        "  def __init__(self,nome,preco,setor):\n",
        "    self.nome = nome\n",
        "    self.preco = preco\n",
        "    self.setor = setor\n",
        "  def nao_seila(self):\n",
        "    print(f\"no mercado tem {self.nome}, que esta custando {self.preco}, e esta no setor {self.setor}. \")\n",
        "\n",
        "produto = Produto(\"arroz\",20,\"padaria\")\n",
        "produto.nao_seila()\n",
        "\n",
        "class Padaria:\n",
        "     def __init__(self,nome, preço, setor, temp, val):\n",
        "        super().__init__(nome, preço, setor,)\n",
        "        self.temp = temp\n",
        "        self.val = val\n",
        "print(\"produto padaria cadastrado\")\n",
        "\n",
        "class Açougue:\n",
        "     def __init__(self,nome, preço, setor, temp, val):\n",
        "        super().__init__(nome, preço, setor,)\n",
        "        self.temp = temp\n",
        "        self.val = val\n",
        "print(\"produto açougue cadastrado\")\n",
        "\n",
        "\n",
        "\n",
        "carne1 = Açougue(\"linguiça\", 39,00,\"açougue\", \"gelado\", \"3 dias\")\n",
        "carne2 = Açougue(\"patinho\",20,99, \"açougue\", \"gelado\", \"3 dias\" )\n",
        "carne3 = Açougue(\"filé de frango\",21,99, \"açougue\", \"gelado\", \"2 dias\")\n",
        "carne4 = Açougue(\"coxa de frango\", 25,88, \"açougue\", \"gelado\", \"3 dias\")\n",
        "carne5 = Açougue(\"pão de alho\", 14,90, \"gelado\", \"açougue\", \"4 dias\")\n",
        "carne6 = Açougue(\"farofa\", 19,99, \"açougue\", \"quente\", \"4 dias\")\n",
        "\n",
        "\n",
        "\n",
        "\n"
      ]
    }
  ],
  "metadata": {
    "colab": {
      "provenance": []
    },
    "kernelspec": {
      "display_name": "Python 3",
      "name": "python3"
    },
    "language_info": {
      "name": "python"
    }
  },
  "nbformat": 4,
  "nbformat_minor": 0
}
